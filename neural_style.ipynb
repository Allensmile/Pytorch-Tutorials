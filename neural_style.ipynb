{
 "cells": [
  {
   "cell_type": "markdown",
   "metadata": {},
   "source": [
    "# PyTorch Neural-Transfert tutorial\n",
    "\n",
    "Welcome! This tutorial explains how to impletment the [Neural-Style](https://arxiv.org/abs/1508.06576) algorithm devloped by Leon A. Gatys, Alexander S. Ecker and Matthias Bethge.\n",
    "\n",
    "### Neural what?\n",
    "\n",
    "The Neural-Style, or Neural-Transfert, is an algorithm that taks as input a content-image...\n",
    "\n",
    "![content](images/content.jpg)\n",
    "\n",
    "... a style-image...\n",
    "\n",
    "![style](images/style.jpg)\n",
    "\n",
    "... and return the content of the content-image as if it was 'painted' using the artistic style of the style-image:"
    "\n",
    "![output](images/output.jpg)\n",
   ]
  },
 "nbformat": 4,
 "nbformat_minor": 2
}
