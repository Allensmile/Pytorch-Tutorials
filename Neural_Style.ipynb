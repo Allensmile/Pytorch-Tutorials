{
 "cells": [
  {
   "cell_type": "markdown",
   "metadata": {},
   "source": [
    "# PyTorch Neural-Transfert tutorial\n",
    "\n",
    "Welcome! This tutorial explains how to impletment the [Neural-Style](https://arxiv.org/abs/1508.06576) algorithm devloped by Leon A. Gatys, Alexander S. Ecker and Matthias Bethge.\n",
    "\n",
    "### Neural what?\n",
    "\n",
    "The Neural-Style, or Neural-Transfert, is an algorithm that taks as input a content-image (e.g. a tortle), a style-image (e.g. artistic waves) and return the content of the content-image as if it was 'painted' using the artistic style of the style-image:\n",
    "\n",
    "![content1](images/neuralstyle.png)\n",
    "\n",
    "### How does it work?\n",
    "\n",
    "The principe is simple: we define two distances, one for the content ($D_c$) and one for the style ($D_s$). $D_c$ measues how different is the content between two images, while $D_s$ measures how different is the style between two images. Then, we just try to minimise those two distances. \n",
    "\n",
    "### OK. How does it work?\n",
    "\n",
    "Well, going further requires some mathematics. Let $C_{nn}$ be a pre-trained deep convolutional neural network and $X$ be any image. $C_{nn}(X)$ is the network feed by $X$ (containing feature maps at all layers). Let $F_X^L \\in C_{nn}(X)$ be the feature map at depth layer $L$. \n",
    "\n"
   ]
  },
  {
   "cell_type": "code",
   "execution_count": null,
   "metadata": {
    "collapsed": true
   },
   "outputs": [],
   "source": []
  }
 ],
 "metadata": {
  "celltoolbar": "Edit Metadata",
  "kernelspec": {
   "display_name": "Python 3",
   "language": "python",
   "name": "python3"
  },
  "language_info": {
   "codemirror_mode": {
    "name": "ipython",
    "version": 3
   },
   "file_extension": ".py",
   "mimetype": "text/x-python",
   "name": "python",
   "nbconvert_exporter": "python",
   "pygments_lexer": "ipython3",
   "version": "3.5.2"
  }
 },
 "nbformat": 4,
 "nbformat_minor": 2
}
