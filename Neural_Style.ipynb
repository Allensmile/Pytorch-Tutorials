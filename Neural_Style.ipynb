{
 "cells": [
  {
   "cell_type": "markdown",
   "metadata": {},
   "source": [
    "# PyTorch Neural-Transfert tutorial\n",
    "\n",
    "Welcome! This tutorial explains how to impletment the [Neural-Style](https://arxiv.org/abs/1508.06576) algorithm devloped by Leon A. Gatys, Alexander S. Ecker and Matthias Bethge.\n",
    "\n",
    "### Neural what?\n",
    "\n",
    "The Neural-Style, or Neural-Transfert, is an algorithm that taks as input a content-image (a tortle), a style-image (artistic waves) and return the content of the content-image as if it was 'painted' using the artistic style of the style-image:\n",
    "\n",
    "![content1](images/content.jpg) \n",
    "# + \n",
    "![style](images/style.jpg) \n",
    "# = \n",
    "![output](images/output.jpg)\n"
   ]
  },
  {
   "cell_type": "code",
   "execution_count": 1,
   "metadata": {
    "collapsed": false
   },
   "outputs": [
    {
     "ename": "SyntaxError",
     "evalue": "invalid syntax (<ipython-input-1-ea9665c23f2d>, line 1)",
     "output_type": "error",
     "traceback": [
      "\u001b[0;36m  File \u001b[0;32m\"<ipython-input-1-ea9665c23f2d>\"\u001b[0;36m, line \u001b[0;32m1\u001b[0m\n\u001b[0;31m    Welcome! This tutorial explains how to impletment the [Neural-Style](https://arxiv.org/abs/1508.06576) algorithm devloped by Leon A. Gatys, Alexander S. Ecker and Matthias Bethge.\u001b[0m\n\u001b[0m           ^\u001b[0m\n\u001b[0;31mSyntaxError\u001b[0m\u001b[0;31m:\u001b[0m invalid syntax\n"
     ]
    }
   ],
   "source": [
    "\n"
   ]
  },
  {
   "cell_type": "code",
   "execution_count": null,
   "metadata": {
    "collapsed": true
   },
   "outputs": [],
   "source": []
  }
 ],
 "metadata": {
  "celltoolbar": "Edit Metadata",
  "kernelspec": {
   "display_name": "Python 3",
   "language": "python",
   "name": "python3"
  },
  "language_info": {
   "codemirror_mode": {
    "name": "ipython",
    "version": 3
   },
   "file_extension": ".py",
   "mimetype": "text/x-python",
   "name": "python",
   "nbconvert_exporter": "python",
   "pygments_lexer": "ipython3",
   "version": "3.5.2"
  }
 },
 "nbformat": 4,
 "nbformat_minor": 2
}
